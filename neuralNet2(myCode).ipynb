{
  "nbformat": 4,
  "nbformat_minor": 0,
  "metadata": {
    "colab": {
      "name": "neuralNet2.ipynb",
      "provenance": [],
      "collapsed_sections": []
    },
    "kernelspec": {
      "display_name": "Python 3",
      "name": "python3"
    },
    "language_info": {
      "name": "python"
    }
  },
  "cells": [
    {
      "cell_type": "code",
      "metadata": {
        "id": "lfg80ey9El3g"
      },
      "source": [
        "#1\n",
        "#download source data from internet\n",
        "from requests import get\n",
        "\n",
        "def download_file(url, file_name):\n",
        "    with open(file_name, \"wb\") as file:\n",
        "        response = get(url)\n",
        "        file.write(response.content)\n",
        "download_file('http://yann.lecun.com/exdb/mnist/train-images-idx3-ubyte.gz', 'train-images-idx3-ubyte.gz')\n",
        "download_file('http://yann.lecun.com/exdb/mnist/train-labels-idx1-ubyte.gz', 'train-labels-idx1-ubyte.gz')\n",
        "download_file('http://yann.lecun.com/exdb/mnist/t10k-images-idx3-ubyte.gz', 't10k-images-idx3-ubyte.gz')\n",
        "download_file('http://yann.lecun.com/exdb/mnist/t10k-labels-idx1-ubyte.gz', 't10k-labels-idx1-ubyte.gz')\n"
      ],
      "execution_count": null,
      "outputs": []
    },
    {
      "cell_type": "code",
      "metadata": {
        "id": "aXMkFq8GE4mW"
      },
      "source": [
        "#2\n",
        "#import libraries\n",
        "import gzip\n",
        "import numpy as np\n",
        "import pandas as pd\n",
        "from time import time\n",
        "\n",
        "from sklearn.model_selection import train_test_split\n",
        "import tensorflow as tf\n",
        "import keras\n",
        "import keras.layers as layers\n",
        "from keras.models import Sequential\n",
        "from keras.preprocessing.image import ImageDataGenerator\n",
        "from keras.utils.np_utils import to_categorical\n",
        "from keras.callbacks import TensorBoard\n",
        "\n",
        "%matplotlib inline\n",
        "import matplotlib.pyplot as plt\n",
        "import seaborn as sns\n",
        "sns.set()\n"
      ],
      "execution_count": null,
      "outputs": []
    },
    {
      "cell_type": "code",
      "metadata": {
        "id": "ITAVDFNiE8NT"
      },
      "source": [
        "#3\n",
        "#read mnist data from source \n",
        "def read_mnist(images_path: str, labels_path: str):\n",
        "    with gzip.open(labels_path, 'rb') as labelsFile:\n",
        "        labels = np.frombuffer(labelsFile.read(), dtype=np.uint8, offset=8)\n",
        "\n",
        "    with gzip.open(images_path,'rb') as imagesFile:\n",
        "        length = len(labels)\n",
        "        # Load flat 28x28 px images (784 px), and convert them to 28x28 px\n",
        "        features = np.frombuffer(imagesFile.read(), dtype=np.uint8, offset=16) \\\n",
        "                        .reshape(length, 784) \\\n",
        "                        .reshape(length, 28, 28, 1)\n",
        "        \n",
        "    return features, labels"
      ],
      "execution_count": null,
      "outputs": []
    },
    {
      "cell_type": "code",
      "metadata": {
        "id": "0ycxi13jE_hH"
      },
      "source": [
        "#4\n",
        "#implementation test and train data\n",
        "train = {}\n",
        "test = {}\n",
        "\n",
        "train['features'], train['labels'] = read_mnist('train-images-idx3-ubyte.gz', 'train-labels-idx1-ubyte.gz')\n",
        "test['features'], test['labels'] = read_mnist('t10k-images-idx3-ubyte.gz', 't10k-labels-idx1-ubyte.gz')\n"
      ],
      "execution_count": null,
      "outputs": []
    },
    {
      "cell_type": "code",
      "metadata": {
        "id": "nBjPOQF0FL-3"
      },
      "source": [
        "#5\n",
        "#display image function\n",
        "def display_image(position):\n",
        "    image = train['features'][position].squeeze()\n",
        "    plt.title('Example %d. Label: %d' % (position, train['labels'][position]))\n",
        "    plt.imshow(image, cmap=plt.cm.gray_r)"
      ],
      "execution_count": null,
      "outputs": []
    },
    {
      "cell_type": "code",
      "metadata": {
        "colab": {
          "base_uri": "https://localhost:8080/",
          "height": 284
        },
        "id": "g0FhjH16fJx_",
        "outputId": "c1f579e9-fe05-42bc-f956-12667577c279"
      },
      "source": [
        "display_image(32)"
      ],
      "execution_count": null,
      "outputs": [
        {
          "output_type": "display_data",
          "data": {
            "image/png": "[encoded data removed]",
            "text/plain": [
              "<Figure size 432x288 with 1 Axes>"
            ]
          },
          "metadata": {}
        }
      ]
    },
    {
      "cell_type": "code",
      "metadata": {
        "colab": {
          "base_uri": "https://localhost:8080/"
        },
        "id": "92PS3NOyr4RK",
        "outputId": "cbe61f0e-2331-4a4d-aa42-9a83b9427b1b"
      },
      "source": [
        "#6\n",
        "#seperation of zeros, ones, ... , nines\n",
        "resultOfZeros = np.where(train['labels'] == 0)\n",
        "print('len(resultOfZeros): ', len(resultOfZeros[0]))\n",
        "resultOfOnes = np.where(train['labels'] == 1)\n",
        "print('len(resultOfOnes): ', len(resultOfOnes[0]))\n",
        "resultOfTwos = np.where(train['labels'] == 2)\n",
        "print('len(resultOfTwos): ', len(resultOfTwos[0]))\n",
        "resultOfThrees = np.where(train['labels'] == 3)\n",
        "print('len(resultOfThrees): ', len(resultOfThrees[0]))\n",
        "resultOfFours = np.where(train['labels'] == 4)\n",
        "print('len(resultOfFours): ', len(resultOfFours[0]))\n",
        "resultOfFives = np.where(train['labels'] == 5)\n",
        "print('len(resultOfFives): ', len(resultOfFives[0]))\n",
        "resultOfSixes = np.where(train['labels'] == 6)\n",
        "print('len(resultOfSixes): ', len(resultOfSixes[0]))\n",
        "resultOfSevens = np.where(train['labels'] == 7)\n",
        "print('len(resultOfSevens): ', len(resultOfSevens[0]))\n",
        "resultOfEights = np.where(train['labels'] == 8)\n",
        "print('len(resultOfEights): ', len(resultOfEights[0]))\n",
        "resultOfNines = np.where(train['labels'] == 9)\n",
        "print('len(resultOfNines): ', len(resultOfNines[0]))"
      ],
      "execution_count": null,
      "outputs": [
        {
          "output_type": "stream",
          "name": "stdout",
          "text": [
            "len(resultOfZeros):  5923\n",
            "len(resultOfOnes):  6742\n",
            "len(resultOfTwos):  5958\n",
            "len(resultOfThrees):  6131\n",
            "len(resultOfFours):  5842\n",
            "len(resultOfFives):  5421\n",
            "len(resultOfSixes):  5918\n",
            "len(resultOfSevens):  6265\n",
            "len(resultOfEights):  5851\n",
            "len(resultOfNines):  5949\n"
          ]
        }
      ]
    },
    {
      "cell_type": "code",
      "metadata": {
        "id": "RvElioE88FTX"
      },
      "source": [
        "#7\n",
        "#display image which combined 2 image in horizontally and labeled \n",
        "def display_image2(position,position2):   ##combined 2 array in numpy and display\n",
        "    image = train['features'][position].squeeze()\n",
        "    image2 = train['features'][position2].squeeze()\n",
        "    print(type(image[0][0]))\n",
        "    print(type(train['labels'][position]))\n",
        "    image3 = (np.hstack((image, image2)))\n",
        "    #plt.title('Example %d. Label: %d' % (position, train['labels'][position]))\n",
        "    print(train['labels'][position]*10+train['labels'][position2])\n",
        "    plt.title('Example %d. Label: %d' % (position, train['labels'][position]+train['labels'][position2]))\n",
        "    plt.imshow(image3, cmap=plt.cm.gray_r)"
      ],
      "execution_count": null,
      "outputs": []
    },
    {
      "cell_type": "code",
      "metadata": {
        "colab": {
          "base_uri": "https://localhost:8080/",
          "height": 285
        },
        "id": "i3tYxckY8HqH",
        "outputId": "a6d5fb59-dbcb-4d8b-95cd-9f3efccbf4d1"
      },
      "source": [
        "#8\n",
        "#try display_image2()\n",
        "display_image2(29400,22329)"
      ],
      "execution_count": null,
      "outputs": [
        {
          "output_type": "stream",
          "name": "stdout",
          "text": [
            "<class 'numpy.uint8'>\n",
            "<class 'numpy.uint8'>\n",
            "95\n"
          ]
        },
        {
          "output_type": "display_data",
          "data": {
            "image/png": "[encoded data removed]",
            "text/plain": [
              "<Figure size 432x288 with 1 Axes>"
            ]
          },
          "metadata": {}
        }
      ]
    },
    {
      "cell_type": "code",
      "metadata": {
        "id": "nkL5b_xUAcBF"
      },
      "source": [
        "#9\n",
        "#combination of 2 images and labeled\n",
        "def combine2Images(firstImagePos,secondImagePos):   ##combined 2 array in numpy and display\n",
        "    \n",
        "    image = train['features'][firstImagePos].squeeze()\n",
        "    image2 = train['features'][secondImagePos].squeeze()\n",
        "    combinedImage = (np.hstack((image, image2)))\n",
        "    combinedLabel = train['labels'][firstImagePos]+train['labels'][secondImagePos]\n",
        "    return combinedImage, combinedLabel"
      ],
      "execution_count": null,
      "outputs": []
    },
    {
      "cell_type": "code",
      "metadata": {
        "colab": {
          "base_uri": "https://localhost:8080/",
          "height": 251
        },
        "id": "Q_25ZcUeqpMh",
        "outputId": "58ea8f65-e994-4b55-c43f-da5ae5faf6a5"
      },
      "source": [
        "#10\n",
        "#try combine2Images()\n",
        "combinedImageWork, combinedLabelWork = combine2Images(29400,22329)\n",
        "plt.title(' Label: %d' % ( combinedLabelWork))\n",
        "plt.imshow(combinedImageWork, cmap=plt.cm.gray_r)\n",
        "print(combinedImageWork.shape)"
      ],
      "execution_count": null,
      "outputs": [
        {
          "output_type": "stream",
          "name": "stdout",
          "text": [
            "(28, 56)\n"
          ]
        },
        {
          "output_type": "display_data",
          "data": {
            "image/png": "[encoded data removed]",
            "text/plain": [
              "<Figure size 432x288 with 1 Axes>"
            ]
          },
          "metadata": {}
        }
      ]
    },
    {
      "cell_type": "code",
      "metadata": {
        "id": "k2Jq7YJVjI1t",
        "colab": {
          "base_uri": "https://localhost:8080/"
        },
        "outputId": "b48c9190-f051-41b4-980d-911f8c1f6cb4"
      },
      "source": [
        "#11\n",
        "#foo and fooLabel is fulled\n",
        "import random\n",
        "import numpy as np\n",
        "\n",
        "i=0   #first digit of data\n",
        "j=0   #second digit of data\n",
        "k=0  #for 1000 sample\n",
        "#foo = np.zeros((100,1000,2),dtype=np.ndarray)\n",
        "foo = np.zeros((100000,28,56),dtype=np.uint8)\n",
        "fooLabel = np.zeros((100000),dtype=np.uint8)\n",
        "trainDataImage = np.zeros((90000,28,56),dtype=np.uint8)\n",
        "trainDataLabel = np.zeros((90000),dtype=np.uint8)\n",
        "testDataImage = np.zeros((10000,28,56),dtype=np.uint8)\n",
        "testDataLabel = np.zeros((10000),dtype=np.uint8)\n",
        "while(i<10):#first digit of pictures and labels\n",
        "  #data selection for first digit\n",
        "  if(i==0):\n",
        "    dataSource=resultOfZeros\n",
        "  elif(i==1):\n",
        "    dataSource=resultOfOnes \n",
        "  elif(i==2):\n",
        "    dataSource=resultOfTwos \n",
        "  elif(i==3):\n",
        "    dataSource=resultOfThrees\n",
        "  elif(i==4):\n",
        "    dataSource=resultOfFours \n",
        "  elif(i==5):\n",
        "    dataSource=resultOfFives \n",
        "  elif(i==6):\n",
        "    dataSource=resultOfSixes\n",
        "  elif(i==7):\n",
        "    dataSource=resultOfSevens \n",
        "  elif(i==8):\n",
        "    dataSource=resultOfEights\n",
        "  elif(i==9):\n",
        "    dataSource=resultOfNines \n",
        "  else:\n",
        "    print(\"Error occured when data source initialize in i\")\n",
        " \n",
        "  while(j<10):#second digit of pictures and labels\n",
        "    #data selection for second digit\n",
        "    if(j==0):\n",
        "      dataSource2=resultOfZeros\n",
        "    elif(j==1):\n",
        "      dataSource2=resultOfOnes \n",
        "    elif(j==2):\n",
        "      dataSource2=resultOfTwos \n",
        "    elif(j==3):\n",
        "      dataSource2=resultOfThrees\n",
        "    elif(j==4):\n",
        "      dataSource2=resultOfFours \n",
        "    elif(j==5):\n",
        "      dataSource2=resultOfFives \n",
        "    elif(j==6):\n",
        "      dataSource2=resultOfSixes\n",
        "    elif(j==7):\n",
        "      dataSource2=resultOfSevens \n",
        "    elif(j==8):\n",
        "      dataSource2=resultOfEights\n",
        "    elif(j==9):\n",
        "      dataSource2=resultOfNines \n",
        "    else:\n",
        "      print(\"Error occured when data source initialize in j\")\n",
        "    \n",
        "    while(k<1000): #combined pictures and assign an array\n",
        "      firstPosition = dataSource[0][random.randint(0, len(dataSource[0])-1)]\n",
        "      secondPosition = dataSource2[0][random.randint(0, len(dataSource2[0])-1)]\n",
        "      combinedImage, combinedLabel = combine2Images(firstPosition,secondPosition)\n",
        "      foo[i*10000+j*1000+k] = combinedImage\n",
        "      fooLabel[i*10000+j*1000+k] = combinedLabel\n",
        "      k=k+1\n",
        "    k=0\n",
        "    j=j+1\n",
        "  j=0\n",
        "  i=i+1\n",
        "\n",
        "\n",
        "print(type(trainDataImage[0]))\n",
        "print(type(trainDataLabel[0]))\n",
        "print(trainDataImage[0].shape)\n",
        "print(testDataImage[0].shape)"
      ],
      "execution_count": null,
      "outputs": [
        {
          "output_type": "stream",
          "name": "stdout",
          "text": [
            "<class 'numpy.ndarray'>\n",
            "<class 'numpy.uint8'>\n",
            "(28, 56)\n",
            "(28, 56)\n"
          ]
        }
      ]
    },
    {
      "cell_type": "code",
      "metadata": {
        "id": "q6-uwngHMwdm"
      },
      "source": [
        "#12\n",
        "import tensorflow as tf\n",
        "from tensorflow.keras import Model\n",
        "from tensorflow.keras.models import Sequential\n",
        "from tensorflow.keras.layers import Dense, Flatten, Conv2D, AveragePooling2D, MaxPool2D"
      ],
      "execution_count": null,
      "outputs": []
    },
    {
      "cell_type": "code",
      "metadata": {
        "colab": {
          "base_uri": "https://localhost:8080/"
        },
        "id": "BYR10MiFfmQd",
        "outputId": "7b1ad1df-9474-4be9-d9ef-2e994709c4ee"
      },
      "source": [
        "#13\n",
        "#generate ten number for randnums\n",
        "import random\n",
        "randnums = random.sample(range(0,100), 10)\n",
        "testIndex=0\n",
        "trainIndex=0\n",
        "print(randnums)\n",
        "randnums = sorted(randnums, reverse=False)\n",
        "print(randnums)"
      ],
      "execution_count": null,
      "outputs": [
        {
          "output_type": "stream",
          "name": "stdout",
          "text": [
            "[23, 42, 73, 48, 45, 97, 81, 94, 76, 29]\n",
            "[23, 29, 42, 45, 48, 73, 76, 81, 94, 97]\n"
          ]
        }
      ]
    },
    {
      "cell_type": "code",
      "metadata": {
        "id": "Oru9UxeUYqem"
      },
      "source": [
        "#14\n",
        "#separate foo array to trainDataImage,trainDataLabel and testDataImage,testDataLabel\n",
        "randomIndex=0\n",
        "k=0\n",
        "fooIndex=0\n",
        "trainIndex=0\n",
        "testIndex=0\n",
        "l=0\n",
        "trainDataImage = np.zeros((90000,28,56),dtype=np.uint8)\n",
        "trainDataLabel = np.zeros((90000),dtype=np.uint8)\n",
        "testDataImage = np.zeros((10000,28,56),dtype=np.uint8)\n",
        "testDataLabel = np.zeros((10000),dtype=np.uint8)\n",
        "\n",
        "while(l<100000):\n",
        "  if(k<10):\n",
        "    print(str(randnums[k]*1000))\n",
        "    if(randnums[k]*1000 <= fooIndex < (randnums[k]+1)*1000):\n",
        "      testDataImage[testIndex]=foo[fooIndex]\n",
        "      testDataLabel[testIndex]=fooLabel[fooIndex]\n",
        "      testIndex=testIndex+1\n",
        "      fooIndex=fooIndex+1\n",
        "    else:\n",
        "      trainDataImage[trainIndex]=foo[fooIndex]\n",
        "      trainDataLabel[trainIndex]=fooLabel[fooIndex]\n",
        "      trainIndex=trainIndex+1\n",
        "      fooIndex=fooIndex+1\n",
        "    if((randnums[k]+1)*1000==fooIndex):\n",
        "      k=k+1\n",
        "  else:\n",
        "      trainDataImage[trainIndex]=foo[fooIndex]\n",
        "      trainDataLabel[trainIndex]=fooLabel[fooIndex]\n",
        "      trainIndex=trainIndex+1\n",
        "      fooIndex=fooIndex+1\n",
        "  #print(str(l)+ \" :l+  k=\"+str(k) +\" fooIndex: \"+str(fooIndex)+\" trainIndex: \"+str(trainIndex) + \" testIndex: \"+str(testIndex))\n",
        "  l=l+1\n",
        "\n"
      ],
      "execution_count": null,
      "outputs": []
    },
    {
      "cell_type": "code",
      "metadata": {
        "id": "FZtvW0vVWK0J"
      },
      "source": [
        "#15\n",
        "#from https://www.machinecurve.com/index.php/2020/02/18/how-to-use-k-fold-cross-validation-with-keras/\n",
        "\n",
        "from tensorflow.keras.models import Sequential\n",
        "from tensorflow.keras.layers import Dense, Flatten, Conv2D, MaxPooling2D\n",
        "from tensorflow.keras.losses import sparse_categorical_crossentropy\n",
        "from tensorflow.keras.optimizers import Adam\n",
        "from sklearn.model_selection import KFold\n",
        "import numpy as np\n",
        "\n",
        "# change type to uint8 to float32\n",
        "trainDataImage = trainDataImage.astype('float32')\n",
        "testDataImage = testDataImage.astype('float32')\n",
        "\n",
        "#image to gray scale\n",
        "trainDataImage /= 255\n",
        "testDataImage /= 255\n",
        "\n",
        "def modelTrain():\n",
        "  # Define the K-fold Cross Validator\n",
        "  #10-fold Cross Calidator\n",
        "  kfold = KFold(n_splits=1, shuffle=True)\n",
        "\n",
        "  # K-fold Cross Validation model evaluation\n",
        "  for train, test in kfold.split(trainDataImage, trainDataLabel):\n",
        "    # Define the model architecture\n",
        "    model = Sequential()\n",
        "    model.add(Conv2D(32, kernel_size=(3, 3), activation='relu', input_shape=(28,56,1)))\n",
        "    model.add(MaxPooling2D(pool_size=(2, 2)))\n",
        "    model.add(Conv2D(64, kernel_size=(3, 3), activation='relu'))\n",
        "    model.add(MaxPooling2D(pool_size=(2, 2)))\n",
        "    model.add(Flatten())\n",
        "    model.add(Dense(256, activation='relu'))\n",
        "    model.add(Dense(128, activation='relu'))\n",
        "    model.add(Dense(1))\n",
        "  return model"
      ],
      "execution_count": null,
      "outputs": []
    },
    {
      "cell_type": "code",
      "metadata": {
        "id": "vtnfLEc3pGdS"
      },
      "source": [
        "#16\n",
        "#start working on model\n",
        "\n",
        "#return model\n",
        "model = modelTrain()\n",
        "\n",
        "#optimizer ada's parameter is set\n",
        "ada = tf.keras.optimizers.Adadelta(learning_rate=0.1, rho=0.95, epsilon=1e-08)\n",
        "\n",
        "#model compile parameters is set\n",
        "model.compile(optimizer=ada,\n",
        "              loss=tf.keras.losses.mean_squared_error,\n",
        "              metrics=['accuracy'])\n",
        "\n",
        "#fitting model with trainData, testData and some parameters\n",
        "history = model.fit(trainDataImage, trainDataLabel, \n",
        "          epochs=10,\n",
        "          batch_size=128, \n",
        "          validation_data=(testDataImage, testDataLabel))"
      ],
      "execution_count": null,
      "outputs": []
    },
    {
      "cell_type": "code",
      "metadata": {
        "colab": {
          "base_uri": "https://localhost:8080/",
          "height": 251
        },
        "id": "JEJ39B3avgF3",
        "outputId": "4e8c5b9d-1219-458c-8763-e7c0b3318a57"
      },
      "source": [
        "#17\n",
        "#predictions checking\n",
        "predictions = model.predict(testDataImage)\n",
        "print(predictions[755])\n",
        "plt.title('Label: %d' %  testDataLabel[755])\n",
        "#plt.imshow(foo[56664].squeeze(), cmap=plt.cm.gray_r)\n",
        "plt.imshow(testDataImage[755].squeeze(),cmap=plt.cm.binary)\n",
        "plt.show()"
      ],
      "execution_count": null,
      "outputs": [
        {
          "output_type": "stream",
          "name": "stdout",
          "text": [
            "[8.7983465]\n"
          ]
        },
        {
          "output_type": "display_data",
          "data": {
            "image/png": "[encoded data removed]",
            "text/plain": [
              "<Figure size 432x288 with 1 Axes>"
            ]
          },
          "metadata": {}
        }
      ]
    },
    {
      "cell_type": "code",
      "metadata": {
        "colab": {
          "base_uri": "https://localhost:8080/"
        },
        "id": "2MVUEl7Sq4ro",
        "outputId": "6903906d-5768-42f0-c636-1e977abcdbdb"
      },
      "source": [
        "#18 \n",
        "# get the accuracy of the model\n",
        "from math import floor,ceil\n",
        "i=0\n",
        "floorCeilNum=0\n",
        "roundNum=0\n",
        "while(i<10000):\n",
        "  if(floor(predictions[i]) == testDataLabel[i] or ceil(predictions[i]) == testDataLabel[i]):\n",
        "    floorCeilNum+=1\n",
        "  if(round(float(predictions[i])) == testDataLabel[i]):\n",
        "    roundNum+=1\n",
        "  i+=1\n",
        "print(\"Floored or ceiled prediction is correct = \" +str(floorCeilNum)+\" accuracy in 10000 samples is %\" +str(floorCeilNum/100))\n",
        "print(\"Rounded prediction is correct = \" +str(roundNum)+\" accuracy in 10000 samples is %\" +str(roundNum/100))"
      ],
      "execution_count": null,
      "outputs": [
        {
          "output_type": "stream",
          "name": "stdout",
          "text": [
            "Floored or ceiled prediction is correct = 2000 accuracy in 10000 samples is %20.0\n",
            "Rounded prediction is correct = 2000 accuracy in 10000 samples is %20.0\n"
          ]
        }
      ]
    },
    {
      "cell_type": "code",
      "metadata": {
        "id": "SaxapSbHgyD2"
      },
      "source": [
        "#alternative version v1\n",
        "#source : https://www.kaggle.com/curiousprogrammer/lenet-5-cnn-with-keras-99-48\n",
        "\n",
        "from tensorflow.keras.models import Sequential\n",
        "from tensorflow.keras.layers import Dense, Flatten, Conv2D, MaxPooling2D\n",
        "from tensorflow.keras.losses import sparse_categorical_crossentropy\n",
        "from tensorflow.keras.optimizers import Adam\n",
        "from sklearn.model_selection import KFold\n",
        "import numpy as np\n",
        "\n",
        "# change type to uint8 to float32\n",
        "trainDataImage = trainDataImage.astype('float32')\n",
        "testDataImage = testDataImage.astype('float32')\n",
        "\n",
        "#image to gray scale\n",
        "trainDataImage /= 255\n",
        "testDataImage /= 255\n",
        "\n",
        "def modelTrain():\n",
        "  # Define the K-fold Cross Validator\n",
        "  #10-fold Cross Calidator\n",
        "  kfold = KFold(n_splits=10, shuffle=True)\n",
        "\n",
        "  # K-fold Cross Validation model evaluation\n",
        "  for train, test in kfold.split(trainDataImage, trainDataLabel):\n",
        "    # Define the model architecture\n",
        "    model = Sequential()\n",
        "    model.add(Conv2D(filters=32, kernel_size=(5,5), padding='same', activation='relu', input_shape=(28, 56, 1)))\n",
        "    model.add(MaxPool2D(strides=2))\n",
        "    model.add(Conv2D(filters=48, kernel_size=(5,5), padding='valid', activation='relu'))\n",
        "    model.add(MaxPool2D(strides=2))\n",
        "    model.add(Flatten())\n",
        "    model.add(Dense(256, activation='relu'))\n",
        "    model.add(Dense(84, activation='relu'))\n",
        "    model.add(Dense(units = 1))\n",
        "  return model\n"
      ],
      "execution_count": null,
      "outputs": []
    },
    {
      "cell_type": "code",
      "metadata": {
        "id": "YnfkCfSZ6BzV"
      },
      "source": [
        "#source is : https://www.programcreek.com/python/example/89669/keras.layers.MaxPooling2D \n",
        "\n",
        "#alternative Version\n",
        "\n",
        "from tensorflow.keras.models import Sequential\n",
        "from tensorflow.keras.layers import Dense, Flatten, Conv2D, MaxPooling2D\n",
        "from tensorflow.keras.losses import sparse_categorical_crossentropy\n",
        "from tensorflow.keras.optimizers import Adam\n",
        "from sklearn.model_selection import KFold\n",
        "import numpy as np\n",
        "\n",
        "# change type to uint8 to float32\n",
        "trainDataImage = trainDataImage.astype('float32')\n",
        "testDataImage = testDataImage.astype('float32')\n",
        "\n",
        "#image to gray scale\n",
        "trainDataImage /= 255\n",
        "testDataImage /= 255\n",
        "\n",
        "def modelTrain():\n",
        "  # Define the K-fold Cross Validator\n",
        "  #10-fold Cross Calidator\n",
        "  kfold = KFold(n_splits=10, shuffle=True)\n",
        "\n",
        "  # K-fold Cross Validation model evaluation\n",
        "  for train, test in kfold.split(trainDataImage, trainDataLabel):\n",
        "    # Define the model architecture\n",
        "    model = Sequential()\n",
        "    model.add(Conv2D(filters=32, kernel_size=(3,3),activation='relu', input_shape=(28, 56, 1)))\n",
        "    model.add(MaxPool2D(strides=2))\n",
        "    model.add(Conv2D(filters=48, kernel_size=(5,5), padding='valid', activation='relu'))\n",
        "    model.add(MaxPool2D(strides=2))\n",
        "    model.add(Flatten())\n",
        "    model.add(Dense(256, activation='relu'))\n",
        "    model.add(Dense(84, activation='relu'))\n",
        "    model.add(Dense(1))\n",
        "  return model\n"
      ],
      "execution_count": null,
      "outputs": []
    },
    {
      "cell_type": "code",
      "metadata": {
        "colab": {
          "base_uri": "https://localhost:8080/",
          "height": 268
        },
        "id": "FP9ESl1U77Rp",
        "outputId": "12748a35-176b-4d50-f44f-0a38952378eb"
      },
      "source": [
        "#17 \n",
        "#predictions checking\n",
        "print(len(predictions))\n",
        "print(predictions[5689])\n",
        "plt.title('Label: %d' %  testDataLabel[5689])\n",
        "#plt.imshow(foo[56664].squeeze(), cmap=plt.cm.gray_r)\n",
        "plt.imshow(testDataImage[5689].squeeze(),cmap=plt.cm.binary)\n",
        "plt.show()"
      ],
      "execution_count": null,
      "outputs": [
        {
          "name": "stdout",
          "output_type": "stream",
          "text": [
            "10000\n",
            "[11.81896]\n"
          ]
        },
        {
          "data": {
            "image/png": "[encoded data removed]",
            "text/plain": [
              "<Figure size 432x288 with 1 Axes>"
            ]
          },
          "metadata": {},
          "output_type": "display_data"
        }
      ]
    },
    {
      "cell_type": "code",
      "metadata": {
        "colab": {
          "base_uri": "https://localhost:8080/",
          "height": 251
        },
        "id": "DhHaC3VCUS5u",
        "outputId": "4bd9e29d-4a60-4611-a7a2-be784518cc34"
      },
      "source": [
        "print(predictions[8500])\n",
        "plt.title('Label: %d' %  testDataLabel[8500])\n",
        "#plt.imshow(foo[56664].squeeze(), cmap=plt.cm.gray_r)\n",
        "plt.imshow(testDataImage[8500].squeeze(),cmap=plt.cm.binary)\n",
        "plt.show()"
      ],
      "execution_count": null,
      "outputs": [
        {
          "output_type": "stream",
          "name": "stdout",
          "text": [
            "[0.]\n"
          ]
        },
        {
          "output_type": "display_data",
          "data": {
            "image/png": "[encoded data removed]",
            "text/plain": [
              "<Figure size 432x288 with 1 Axes>"
            ]
          },
          "metadata": {}
        }
      ]
    },
    {
      "cell_type": "code",
      "metadata": {
        "colab": {
          "base_uri": "https://localhost:8080/",
          "height": 251
        },
        "id": "LxsfKqxdYQbS",
        "outputId": "23bca2de-09b2-4681-c6f6-cba4cc7e6434"
      },
      "source": [
        "print(predictions[9758])\n",
        "plt.title('Label: %d' %  testDataLabel[9758])\n",
        "#plt.imshow(foo[56664].squeeze(), cmap=plt.cm.gray_r)\n",
        "plt.imshow(testDataImage[9758].squeeze(),cmap=plt.cm.binary)\n",
        "plt.show()"
      ],
      "execution_count": null,
      "outputs": [
        {
          "output_type": "stream",
          "name": "stdout",
          "text": [
            "[0.]\n"
          ]
        },
        {
          "output_type": "display_data",
          "data": {
            "image/png": "[encoded data removed]",
            "text/plain": [
              "<Figure size 432x288 with 1 Axes>"
            ]
          },
          "metadata": {}
        }
      ]
    },
    {
      "cell_type": "code",
      "metadata": {
        "colab": {
          "base_uri": "https://localhost:8080/",
          "height": 251
        },
        "id": "XX8Ns1-keuG7",
        "outputId": "3860a31e-f837-44a1-df88-59be44165bf3"
      },
      "source": [
        "print(predictions[4444])\n",
        "plt.title('Label: %d' %  testDataLabel[4444])\n",
        "#plt.imshow(foo[56664].squeeze(), cmap=plt.cm.gray_r)\n",
        "plt.imshow(testDataImage[4444].squeeze(),cmap=plt.cm.binary)\n",
        "plt.show()"
      ],
      "execution_count": null,
      "outputs": [
        {
          "name": "stdout",
          "output_type": "stream",
          "text": [
            "[12.278471]\n"
          ]
        },
        {
          "data": {
            "image/png": "[encoded data removed]",
            "text/plain": [
              "<Figure size 432x288 with 1 Axes>"
            ]
          },
          "metadata": {},
          "output_type": "display_data"
        }
      ]
    },
    {
      "cell_type": "code",
      "metadata": {
        "colab": {
          "base_uri": "https://localhost:8080/",
          "height": 251
        },
        "id": "SoEk04a3ffQw",
        "outputId": "0f911cd6-df4d-4baa-83d3-f53edc2d8ac5"
      },
      "source": [
        "print(predictions[3333])\n",
        "plt.title('Label: %d' %  testDataLabel[3333])\n",
        "#plt.imshow(foo[56664].squeeze(), cmap=plt.cm.gray_r)\n",
        "plt.imshow(testDataImage[3333].squeeze(),cmap=plt.cm.binary)\n",
        "plt.show()"
      ],
      "execution_count": null,
      "outputs": [
        {
          "output_type": "stream",
          "name": "stdout",
          "text": [
            "[0.]\n"
          ]
        },
        {
          "output_type": "display_data",
          "data": {
            "image/png": "[encoded data removed]",
            "text/plain": [
              "<Figure size 432x288 with 1 Axes>"
            ]
          },
          "metadata": {}
        }
      ]
    },
    {
      "cell_type": "code",
      "metadata": {
        "colab": {
          "base_uri": "https://localhost:8080/",
          "height": 251
        },
        "id": "1SPe92_LgBSV",
        "outputId": "820e770d-df29-4bca-b2ff-4a0490fe8d48"
      },
      "source": [
        "print(predictions[2222])\n",
        "plt.title('Label: %d' %  testDataLabel[2222])\n",
        "#plt.imshow(foo[56664].squeeze(), cmap=plt.cm.gray_r)\n",
        "plt.imshow(testDataImage[2222].squeeze(),cmap=plt.cm.binary)\n",
        "plt.show()"
      ],
      "execution_count": null,
      "outputs": [
        {
          "name": "stdout",
          "output_type": "stream",
          "text": [
            "[5.193051]\n"
          ]
        },
        {
          "data": {
            "image/png": "[encoded data removed]",
            "text/plain": [
              "<Figure size 432x288 with 1 Axes>"
            ]
          },
          "metadata": {},
          "output_type": "display_data"
        }
      ]
    },
    {
      "cell_type": "code",
      "metadata": {
        "colab": {
          "base_uri": "https://localhost:8080/",
          "height": 251
        },
        "id": "byVx2-QKghfb",
        "outputId": "075a011c-cfa7-452d-e4ad-09b591b28024"
      },
      "source": [
        "print(predictions[6666])\n",
        "plt.title('Label: %d' %  testDataLabel[6666])\n",
        "#plt.imshow(foo[56664].squeeze(), cmap=plt.cm.gray_r)\n",
        "plt.imshow(testDataImage[6666].squeeze(),cmap=plt.cm.binary)\n",
        "plt.show()"
      ],
      "execution_count": null,
      "outputs": [
        {
          "name": "stdout",
          "output_type": "stream",
          "text": [
            "[12.085421]\n"
          ]
        },
        {
          "data": {
            "image/png": "[encoded data removed]",
            "text/plain": [
              "<Figure size 432x288 with 1 Axes>"
            ]
          },
          "metadata": {},
          "output_type": "display_data"
        }
      ]
    },
    {
      "cell_type": "code",
      "metadata": {
        "colab": {
          "base_uri": "https://localhost:8080/",
          "height": 251
        },
        "id": "U0U-1WUdjZpT",
        "outputId": "198fd0c2-f752-4770-9e9e-c835112ca9d5"
      },
      "source": [
        "print(predictions[7777])\n",
        "plt.title('Label: %d' %  testDataLabel[7777])\n",
        "#plt.imshow(foo[56664].squeeze(), cmap=plt.cm.gray_r)\n",
        "plt.imshow(testDataImage[7777].squeeze(),cmap=plt.cm.binary)\n",
        "plt.show()"
      ],
      "execution_count": null,
      "outputs": [
        {
          "name": "stdout",
          "output_type": "stream",
          "text": [
            "[9.595124]\n"
          ]
        },
        {
          "data": {
            "image/png": "[encoded data removed]",
            "text/plain": [
              "<Figure size 432x288 with 1 Axes>"
            ]
          },
          "metadata": {},
          "output_type": "display_data"
        }
      ]
    },
    {
      "cell_type": "code",
      "metadata": {
        "colab": {
          "base_uri": "https://localhost:8080/",
          "height": 251
        },
        "id": "VBnVH0C8j-GL",
        "outputId": "5cb69acd-53f1-4566-d98a-3e173de44da2"
      },
      "source": [
        "print(predictions[8888])\n",
        "plt.title('Label: %d' %  testDataLabel[8888])\n",
        "#plt.imshow(foo[56664].squeeze(), cmap=plt.cm.gray_r)\n",
        "plt.imshow(testDataImage[8888].squeeze(),cmap=plt.cm.binary)\n",
        "plt.show()"
      ],
      "execution_count": null,
      "outputs": [
        {
          "name": "stdout",
          "output_type": "stream",
          "text": [
            "[9.9429]\n"
          ]
        },
        {
          "data": {
            "image/png": "[encoded data removed]",
            "text/plain": [
              "<Figure size 432x288 with 1 Axes>"
            ]
          },
          "metadata": {},
          "output_type": "display_data"
        }
      ]
    },
    {
      "cell_type": "code",
      "metadata": {
        "colab": {
          "base_uri": "https://localhost:8080/",
          "height": 251
        },
        "id": "1ihOSLGoj9-c",
        "outputId": "7850f45c-2a75-4ca8-b59f-385e7283ef27"
      },
      "source": [
        "print(predictions[488])\n",
        "plt.title('Label: %d' %  testDataLabel[488])\n",
        "#plt.imshow(foo[56664].squeeze(), cmap=plt.cm.gray_r)\n",
        "plt.imshow(testDataImage[488].squeeze(),cmap=plt.cm.binary)\n",
        "plt.show()"
      ],
      "execution_count": null,
      "outputs": [
        {
          "name": "stdout",
          "output_type": "stream",
          "text": [
            "[7.9031167]\n"
          ]
        },
        {
          "data": {
            "image/png": "[encoded data removed]",
            "text/plain": [
              "<Figure size 432x288 with 1 Axes>"
            ]
          },
          "metadata": {},
          "output_type": "display_data"
        }
      ]
    },
    {
      "cell_type": "code",
      "metadata": {
        "colab": {
          "base_uri": "https://localhost:8080/",
          "height": 251
        },
        "id": "VhwUS7mxmKiA",
        "outputId": "8c8cc659-713e-43c6-bb71-6baac13d5a99"
      },
      "source": [
        "print(predictions[1245])\n",
        "plt.title('Label: %d' %  testDataLabel[1245])\n",
        "#plt.imshow(foo[56664].squeeze(), cmap=plt.cm.gray_r)\n",
        "plt.imshow(testDataImage[1245].squeeze(),cmap=plt.cm.binary)\n",
        "plt.show()"
      ],
      "execution_count": null,
      "outputs": [
        {
          "name": "stdout",
          "output_type": "stream",
          "text": [
            "[7.265822]\n"
          ]
        },
        {
          "data": {
            "image/png": "[encoded data removed]",
            "text/plain": [
              "<Figure size 432x288 with 1 Axes>"
            ]
          },
          "metadata": {},
          "output_type": "display_data"
        }
      ]
    },
    {
      "cell_type": "code",
      "metadata": {
        "colab": {
          "base_uri": "https://localhost:8080/",
          "height": 251
        },
        "id": "RYMinJe8mxYb",
        "outputId": "47a9f9c6-5fe3-47c9-dba1-6f51cc6e2a67"
      },
      "source": [
        "print(predictions[4212])\n",
        "plt.title('Label: %d' %  testDataLabel[4212])\n",
        "#plt.imshow(foo[56664].squeeze(), cmap=plt.cm.gray_r)\n",
        "plt.imshow(testDataImage[4212].squeeze(),cmap=plt.cm.binary)\n",
        "plt.show()"
      ],
      "execution_count": null,
      "outputs": [
        {
          "name": "stdout",
          "output_type": "stream",
          "text": [
            "[8.191742]\n"
          ]
        },
        {
          "data": {
            "image/png": "[encoded data removed]",
            "text/plain": [
              "<Figure size 432x288 with 1 Axes>"
            ]
          },
          "metadata": {},
          "output_type": "display_data"
        }
      ]
    },
    {
      "cell_type": "code",
      "metadata": {
        "colab": {
          "base_uri": "https://localhost:8080/",
          "height": 251
        },
        "id": "uU6K9ZqBnJm5",
        "outputId": "c969036a-5907-44f3-9a87-56888df9dece"
      },
      "source": [
        "print(predictions[7648])\n",
        "plt.title('Label: %d' %  testDataLabel[7648])\n",
        "#plt.imshow(foo[56664].squeeze(), cmap=plt.cm.gray_r)\n",
        "plt.imshow(testDataImage[7648].squeeze(),cmap=plt.cm.binary)\n",
        "plt.show()"
      ],
      "execution_count": null,
      "outputs": [
        {
          "name": "stdout",
          "output_type": "stream",
          "text": [
            "[9.537987]\n"
          ]
        },
        {
          "data": {
            "image/png": "[encoded data removed]",
            "text/plain": [
              "<Figure size 432x288 with 1 Axes>"
            ]
          },
          "metadata": {},
          "output_type": "display_data"
        }
      ]
    },
    {
      "cell_type": "code",
      "metadata": {
        "colab": {
          "base_uri": "https://localhost:8080/",
          "height": 251
        },
        "id": "stBpGrxoncnx",
        "outputId": "8b024bc4-b4b2-4a6a-e239-2fb9ef7d7447"
      },
      "source": [
        "print(predictions[5421])\n",
        "plt.title('Label: %d' %  testDataLabel[5421])\n",
        "#plt.imshow(foo[56664].squeeze(), cmap=plt.cm.gray_r)\n",
        "plt.imshow(testDataImage[5421].squeeze(),cmap=plt.cm.binary)\n",
        "plt.show()"
      ],
      "execution_count": null,
      "outputs": [
        {
          "name": "stdout",
          "output_type": "stream",
          "text": [
            "[14.675799]\n"
          ]
        },
        {
          "data": {
            "image/png": "[encoded data removed]",
            "text/plain": [
              "<Figure size 432x288 with 1 Axes>"
            ]
          },
          "metadata": {},
          "output_type": "display_data"
        }
      ]
    },
    {
      "cell_type": "code",
      "metadata": {
        "colab": {
          "base_uri": "https://localhost:8080/",
          "height": 251
        },
        "id": "u9nCfqH6n3Pm",
        "outputId": "52a4c281-b617-4db7-f2db-90cc206fae0c"
      },
      "source": [
        "print(predictions[9845])\n",
        "plt.title('Label: %d' %  testDataLabel[9845])\n",
        "#plt.imshow(foo[56664].squeeze(), cmap=plt.cm.gray_r)\n",
        "plt.imshow(testDataImage[9845].squeeze(),cmap=plt.cm.binary)\n",
        "plt.show()"
      ],
      "execution_count": null,
      "outputs": [
        {
          "name": "stdout",
          "output_type": "stream",
          "text": [
            "[14.241512]\n"
          ]
        },
        {
          "data": {
            "image/png": "[encoded data removed]",
            "text/plain": [
              "<Figure size 432x288 with 1 Axes>"
            ]
          },
          "metadata": {},
          "output_type": "display_data"
        }
      ]
    }
  ]
}